{
 "cells": [
  {
   "cell_type": "markdown",
   "id": "600e38a7-e9cb-4c2e-861f-814c8386e7a4",
   "metadata": {},
   "source": [
    "# Data Exploration"
   ]
  },
  {
   "cell_type": "markdown",
   "id": "dd566052-5b57-4625-900d-6b06333c0e6a",
   "metadata": {},
   "source": [
    "<strong>Importing data created from the Data_Collection Notebook:</strong>"
   ]
  },
  {
   "cell_type": "code",
   "execution_count": 1,
   "id": "ff60db03-8cf0-4645-8c78-9b872404b187",
   "metadata": {},
   "outputs": [
    {
     "data": {
      "text/html": [
       "<div>\n",
       "<style scoped>\n",
       "    .dataframe tbody tr th:only-of-type {\n",
       "        vertical-align: middle;\n",
       "    }\n",
       "\n",
       "    .dataframe tbody tr th {\n",
       "        vertical-align: top;\n",
       "    }\n",
       "\n",
       "    .dataframe thead th {\n",
       "        text-align: right;\n",
       "    }\n",
       "</style>\n",
       "<table border=\"1\" class=\"dataframe\">\n",
       "  <thead>\n",
       "    <tr style=\"text-align: right;\">\n",
       "      <th></th>\n",
       "      <th>Name</th>\n",
       "      <th>HP</th>\n",
       "      <th>ATK</th>\n",
       "      <th>DEF</th>\n",
       "      <th>Ascension Stat</th>\n",
       "      <th>Ascension Stat Value</th>\n",
       "      <th>Release Date</th>\n",
       "      <th>Element</th>\n",
       "      <th>Weapon</th>\n",
       "      <th>Sex</th>\n",
       "      <th>Nation</th>\n",
       "      <th>rarity</th>\n",
       "      <th>birthday</th>\n",
       "    </tr>\n",
       "  </thead>\n",
       "  <tbody>\n",
       "    <tr>\n",
       "      <th>0</th>\n",
       "      <td>Lisa</td>\n",
       "      <td>9570</td>\n",
       "      <td>232</td>\n",
       "      <td>573</td>\n",
       "      <td>Elemental Mastery</td>\n",
       "      <td>96</td>\n",
       "      <td>2020-09-28</td>\n",
       "      <td>Electro</td>\n",
       "      <td>Catalyst</td>\n",
       "      <td>Female</td>\n",
       "      <td>Mondstadt</td>\n",
       "      <td>4.0</td>\n",
       "      <td>0000-06-09</td>\n",
       "    </tr>\n",
       "    <tr>\n",
       "      <th>1</th>\n",
       "      <td>Razor</td>\n",
       "      <td>11962</td>\n",
       "      <td>234</td>\n",
       "      <td>751</td>\n",
       "      <td>Physical DMG Bonus</td>\n",
       "      <td>30.0%</td>\n",
       "      <td>2020-09-28</td>\n",
       "      <td>Electro</td>\n",
       "      <td>Claymore</td>\n",
       "      <td>Male</td>\n",
       "      <td>Mondstadt</td>\n",
       "      <td>4.0</td>\n",
       "      <td>0000-09-09</td>\n",
       "    </tr>\n",
       "    <tr>\n",
       "      <th>2</th>\n",
       "      <td>Qiqi</td>\n",
       "      <td>12368</td>\n",
       "      <td>287</td>\n",
       "      <td>922</td>\n",
       "      <td>Healing Bonus</td>\n",
       "      <td>22.2%</td>\n",
       "      <td>2020-09-28</td>\n",
       "      <td>Cryo</td>\n",
       "      <td>Sword</td>\n",
       "      <td>Female</td>\n",
       "      <td>Liyue</td>\n",
       "      <td>5.0</td>\n",
       "      <td>0000-03-03</td>\n",
       "    </tr>\n",
       "    <tr>\n",
       "      <th>3</th>\n",
       "      <td>Noelle</td>\n",
       "      <td>12071</td>\n",
       "      <td>191</td>\n",
       "      <td>799</td>\n",
       "      <td>DEF</td>\n",
       "      <td>30.0%</td>\n",
       "      <td>2020-09-28</td>\n",
       "      <td>Geo</td>\n",
       "      <td>Claymore</td>\n",
       "      <td>Female</td>\n",
       "      <td>Mondstadt</td>\n",
       "      <td>4.0</td>\n",
       "      <td>0000-03-21</td>\n",
       "    </tr>\n",
       "    <tr>\n",
       "      <th>4</th>\n",
       "      <td>Ningguang</td>\n",
       "      <td>9787</td>\n",
       "      <td>212</td>\n",
       "      <td>573</td>\n",
       "      <td>Geo DMG Bonus</td>\n",
       "      <td>24.0%</td>\n",
       "      <td>2020-09-28</td>\n",
       "      <td>Geo</td>\n",
       "      <td>Catalyst</td>\n",
       "      <td>Female</td>\n",
       "      <td>Liyue</td>\n",
       "      <td>4.0</td>\n",
       "      <td>0000-08-26</td>\n",
       "    </tr>\n",
       "    <tr>\n",
       "      <th>5</th>\n",
       "      <td>Mona</td>\n",
       "      <td>10409</td>\n",
       "      <td>287</td>\n",
       "      <td>653</td>\n",
       "      <td>Energy Recharge</td>\n",
       "      <td>32.0%</td>\n",
       "      <td>2020-09-28</td>\n",
       "      <td>Hydro</td>\n",
       "      <td>Catalyst</td>\n",
       "      <td>Female</td>\n",
       "      <td>Mondstadt</td>\n",
       "      <td>5.0</td>\n",
       "      <td>0000-08-31</td>\n",
       "    </tr>\n",
       "    <tr>\n",
       "      <th>6</th>\n",
       "      <td>Keqing</td>\n",
       "      <td>13103</td>\n",
       "      <td>323</td>\n",
       "      <td>799</td>\n",
       "      <td>CRIT DMG</td>\n",
       "      <td>38.4%</td>\n",
       "      <td>2020-09-28</td>\n",
       "      <td>Electro</td>\n",
       "      <td>Sword</td>\n",
       "      <td>Female</td>\n",
       "      <td>Liyue</td>\n",
       "      <td>5.0</td>\n",
       "      <td>0000-11-20</td>\n",
       "    </tr>\n",
       "    <tr>\n",
       "      <th>7</th>\n",
       "      <td>Venti</td>\n",
       "      <td>10531</td>\n",
       "      <td>263</td>\n",
       "      <td>669</td>\n",
       "      <td>Energy Recharge</td>\n",
       "      <td>32.0%</td>\n",
       "      <td>2020-09-28</td>\n",
       "      <td>Anemo</td>\n",
       "      <td>Bow</td>\n",
       "      <td>Male</td>\n",
       "      <td>Mondstadt</td>\n",
       "      <td>5.0</td>\n",
       "      <td>0000-06-16</td>\n",
       "    </tr>\n",
       "    <tr>\n",
       "      <th>8</th>\n",
       "      <td>Kaeya</td>\n",
       "      <td>11636</td>\n",
       "      <td>223</td>\n",
       "      <td>792</td>\n",
       "      <td>Energy Recharge</td>\n",
       "      <td>26.7%</td>\n",
       "      <td>2020-09-28</td>\n",
       "      <td>Cryo</td>\n",
       "      <td>Sword</td>\n",
       "      <td>Male</td>\n",
       "      <td>Mondstadt</td>\n",
       "      <td>4.0</td>\n",
       "      <td>0000-11-30</td>\n",
       "    </tr>\n",
       "    <tr>\n",
       "      <th>9</th>\n",
       "      <td>Sucrose</td>\n",
       "      <td>9243</td>\n",
       "      <td>170</td>\n",
       "      <td>703</td>\n",
       "      <td>Anemo DMG Bonus</td>\n",
       "      <td>24.0%</td>\n",
       "      <td>2020-09-28</td>\n",
       "      <td>Anemo</td>\n",
       "      <td>Catalyst</td>\n",
       "      <td>Female</td>\n",
       "      <td>Mondstadt</td>\n",
       "      <td>4.0</td>\n",
       "      <td>0000-11-26</td>\n",
       "    </tr>\n",
       "    <tr>\n",
       "      <th>10</th>\n",
       "      <td>Xiangling</td>\n",
       "      <td>10875</td>\n",
       "      <td>225</td>\n",
       "      <td>669</td>\n",
       "      <td>Elemental Mastery</td>\n",
       "      <td>96</td>\n",
       "      <td>2020-09-28</td>\n",
       "      <td>Pyro</td>\n",
       "      <td>Polearm</td>\n",
       "      <td>Female</td>\n",
       "      <td>Liyue</td>\n",
       "      <td>4.0</td>\n",
       "      <td>0000-11-02</td>\n",
       "    </tr>\n",
       "    <tr>\n",
       "      <th>11</th>\n",
       "      <td>Xingqiu</td>\n",
       "      <td>10223</td>\n",
       "      <td>202</td>\n",
       "      <td>758</td>\n",
       "      <td>ATK</td>\n",
       "      <td>24.0%</td>\n",
       "      <td>2020-09-28</td>\n",
       "      <td>Hydro</td>\n",
       "      <td>Sword</td>\n",
       "      <td>Male</td>\n",
       "      <td>Liyue</td>\n",
       "      <td>4.0</td>\n",
       "      <td>0000-10-09</td>\n",
       "    </tr>\n",
       "    <tr>\n",
       "      <th>12</th>\n",
       "      <td>Fischl</td>\n",
       "      <td>9189</td>\n",
       "      <td>244</td>\n",
       "      <td>594</td>\n",
       "      <td>ATK</td>\n",
       "      <td>24.0%</td>\n",
       "      <td>2020-09-28</td>\n",
       "      <td>Electro</td>\n",
       "      <td>Bow</td>\n",
       "      <td>Female</td>\n",
       "      <td>Mondstadt</td>\n",
       "      <td>4.0</td>\n",
       "      <td>0000-05-27</td>\n",
       "    </tr>\n",
       "    <tr>\n",
       "      <th>13</th>\n",
       "      <td>Diluc</td>\n",
       "      <td>12981</td>\n",
       "      <td>335</td>\n",
       "      <td>784</td>\n",
       "      <td>CRIT Rate</td>\n",
       "      <td>19.2%</td>\n",
       "      <td>2020-09-28</td>\n",
       "      <td>Pyro</td>\n",
       "      <td>Claymore</td>\n",
       "      <td>Male</td>\n",
       "      <td>Mondstadt</td>\n",
       "      <td>5.0</td>\n",
       "      <td>0000-04-30</td>\n",
       "    </tr>\n",
       "    <tr>\n",
       "      <th>14</th>\n",
       "      <td>Chongyun</td>\n",
       "      <td>10984</td>\n",
       "      <td>223</td>\n",
       "      <td>648</td>\n",
       "      <td>ATK</td>\n",
       "      <td>24.0%</td>\n",
       "      <td>2020-09-28</td>\n",
       "      <td>Cryo</td>\n",
       "      <td>Claymore</td>\n",
       "      <td>Male</td>\n",
       "      <td>Liyue</td>\n",
       "      <td>4.0</td>\n",
       "      <td>0000-09-07</td>\n",
       "    </tr>\n",
       "    <tr>\n",
       "      <th>15</th>\n",
       "      <td>Bennett</td>\n",
       "      <td>12397</td>\n",
       "      <td>191</td>\n",
       "      <td>771</td>\n",
       "      <td>Energy Recharge</td>\n",
       "      <td>26.7%</td>\n",
       "      <td>2020-09-28</td>\n",
       "      <td>Pyro</td>\n",
       "      <td>Sword</td>\n",
       "      <td>Male</td>\n",
       "      <td>Mondstadt</td>\n",
       "      <td>4.0</td>\n",
       "      <td>0000-02-29</td>\n",
       "    </tr>\n",
       "    <tr>\n",
       "      <th>16</th>\n",
       "      <td>Beidou</td>\n",
       "      <td>13050</td>\n",
       "      <td>225</td>\n",
       "      <td>648</td>\n",
       "      <td>Electro DMG Bonus</td>\n",
       "      <td>24.0%</td>\n",
       "      <td>2020-09-28</td>\n",
       "      <td>Electro</td>\n",
       "      <td>Claymore</td>\n",
       "      <td>Female</td>\n",
       "      <td>Liyue</td>\n",
       "      <td>4.0</td>\n",
       "      <td>0000-02-14</td>\n",
       "    </tr>\n",
       "    <tr>\n",
       "      <th>17</th>\n",
       "      <td>Barbara</td>\n",
       "      <td>9787</td>\n",
       "      <td>159</td>\n",
       "      <td>669</td>\n",
       "      <td>HP</td>\n",
       "      <td>24.0%</td>\n",
       "      <td>2020-09-28</td>\n",
       "      <td>Hydro</td>\n",
       "      <td>Catalyst</td>\n",
       "      <td>Female</td>\n",
       "      <td>Mondstadt</td>\n",
       "      <td>4.0</td>\n",
       "      <td>0000-07-05</td>\n",
       "    </tr>\n",
       "    <tr>\n",
       "      <th>18</th>\n",
       "      <td>Amber</td>\n",
       "      <td>9461</td>\n",
       "      <td>223</td>\n",
       "      <td>601</td>\n",
       "      <td>ATK</td>\n",
       "      <td>24.0%</td>\n",
       "      <td>2020-09-28</td>\n",
       "      <td>Pyro</td>\n",
       "      <td>Bow</td>\n",
       "      <td>Female</td>\n",
       "      <td>Mondstadt</td>\n",
       "      <td>4.0</td>\n",
       "      <td>0000-08-10</td>\n",
       "    </tr>\n",
       "    <tr>\n",
       "      <th>19</th>\n",
       "      <td>Jean</td>\n",
       "      <td>14695</td>\n",
       "      <td>239</td>\n",
       "      <td>769</td>\n",
       "      <td>Healing Bonus</td>\n",
       "      <td>22.2%</td>\n",
       "      <td>2020-09-28</td>\n",
       "      <td>Anemo</td>\n",
       "      <td>Sword</td>\n",
       "      <td>Female</td>\n",
       "      <td>Mondstadt</td>\n",
       "      <td>5.0</td>\n",
       "      <td>0000-03-14</td>\n",
       "    </tr>\n",
       "    <tr>\n",
       "      <th>20</th>\n",
       "      <td>Klee</td>\n",
       "      <td>10287</td>\n",
       "      <td>311</td>\n",
       "      <td>615</td>\n",
       "      <td>Pyro DMG Bonus</td>\n",
       "      <td>28.8%</td>\n",
       "      <td>2020-10-20</td>\n",
       "      <td>Pyro</td>\n",
       "      <td>Catalyst</td>\n",
       "      <td>Female</td>\n",
       "      <td>Mondstadt</td>\n",
       "      <td>5.0</td>\n",
       "      <td>0000-07-27</td>\n",
       "    </tr>\n",
       "    <tr>\n",
       "      <th>21</th>\n",
       "      <td>Diona</td>\n",
       "      <td>9570</td>\n",
       "      <td>212</td>\n",
       "      <td>601</td>\n",
       "      <td>Cryo DMG Bonus</td>\n",
       "      <td>24.0%</td>\n",
       "      <td>2020-11-11</td>\n",
       "      <td>Cryo</td>\n",
       "      <td>Bow</td>\n",
       "      <td>Female</td>\n",
       "      <td>Mondstadt</td>\n",
       "      <td>4.0</td>\n",
       "      <td>0000-01-18</td>\n",
       "    </tr>\n",
       "    <tr>\n",
       "      <th>22</th>\n",
       "      <td>Tartaglia</td>\n",
       "      <td>13103</td>\n",
       "      <td>301</td>\n",
       "      <td>815</td>\n",
       "      <td>Hydro DMG Bonus</td>\n",
       "      <td>28.8%</td>\n",
       "      <td>2020-11-11</td>\n",
       "      <td>Hydro</td>\n",
       "      <td>Bow</td>\n",
       "      <td>Male</td>\n",
       "      <td>Snezhnaya</td>\n",
       "      <td>5.0</td>\n",
       "      <td>0000-07-20</td>\n",
       "    </tr>\n",
       "    <tr>\n",
       "      <th>23</th>\n",
       "      <td>Xinyan</td>\n",
       "      <td>11201</td>\n",
       "      <td>249</td>\n",
       "      <td>799</td>\n",
       "      <td>ATK</td>\n",
       "      <td>24.0%</td>\n",
       "      <td>2020-12-01</td>\n",
       "      <td>Pyro</td>\n",
       "      <td>Claymore</td>\n",
       "      <td>Female</td>\n",
       "      <td>Liyue</td>\n",
       "      <td>4.0</td>\n",
       "      <td>0000-10-16</td>\n",
       "    </tr>\n",
       "    <tr>\n",
       "      <th>24</th>\n",
       "      <td>Zhongli</td>\n",
       "      <td>14695</td>\n",
       "      <td>251</td>\n",
       "      <td>738</td>\n",
       "      <td>Geo DMG Bonus</td>\n",
       "      <td>28.8%</td>\n",
       "      <td>2020-12-01</td>\n",
       "      <td>Geo</td>\n",
       "      <td>Polearm</td>\n",
       "      <td>Male</td>\n",
       "      <td>Liyue</td>\n",
       "      <td>5.0</td>\n",
       "      <td>0000-12-31</td>\n",
       "    </tr>\n",
       "    <tr>\n",
       "      <th>25</th>\n",
       "      <td>Albedo</td>\n",
       "      <td>13226</td>\n",
       "      <td>251</td>\n",
       "      <td>876</td>\n",
       "      <td>Geo DMG Bonus</td>\n",
       "      <td>28.8%</td>\n",
       "      <td>2020-12-23</td>\n",
       "      <td>Geo</td>\n",
       "      <td>Sword</td>\n",
       "      <td>Male</td>\n",
       "      <td>Mondstadt</td>\n",
       "      <td>5.0</td>\n",
       "      <td>0000-09-13</td>\n",
       "    </tr>\n",
       "    <tr>\n",
       "      <th>26</th>\n",
       "      <td>Ganyu</td>\n",
       "      <td>9797</td>\n",
       "      <td>335</td>\n",
       "      <td>630</td>\n",
       "      <td>CRIT DMG</td>\n",
       "      <td>38.4%</td>\n",
       "      <td>2021-01-12</td>\n",
       "      <td>Cryo</td>\n",
       "      <td>Bow</td>\n",
       "      <td>Female</td>\n",
       "      <td>Liyue</td>\n",
       "      <td>5.0</td>\n",
       "      <td>0000-12-02</td>\n",
       "    </tr>\n",
       "    <tr>\n",
       "      <th>27</th>\n",
       "      <td>Xiao</td>\n",
       "      <td>12736</td>\n",
       "      <td>349</td>\n",
       "      <td>799</td>\n",
       "      <td>CRIT Rate</td>\n",
       "      <td>19.2%</td>\n",
       "      <td>2021-02-03</td>\n",
       "      <td>Anemo</td>\n",
       "      <td>Polearm</td>\n",
       "      <td>Male</td>\n",
       "      <td>Liyue</td>\n",
       "      <td>5.0</td>\n",
       "      <td>0000-04-17</td>\n",
       "    </tr>\n",
       "    <tr>\n",
       "      <th>28</th>\n",
       "      <td>Hu Tao</td>\n",
       "      <td>15552</td>\n",
       "      <td>106</td>\n",
       "      <td>876</td>\n",
       "      <td>CRIT DMG</td>\n",
       "      <td>38.4%</td>\n",
       "      <td>2021-03-02</td>\n",
       "      <td>Pyro</td>\n",
       "      <td>Polearm</td>\n",
       "      <td>Female</td>\n",
       "      <td>Liyue</td>\n",
       "      <td>5.0</td>\n",
       "      <td>0000-07-15</td>\n",
       "    </tr>\n",
       "    <tr>\n",
       "      <th>29</th>\n",
       "      <td>Rosaria</td>\n",
       "      <td>12289</td>\n",
       "      <td>240</td>\n",
       "      <td>710</td>\n",
       "      <td>ATK</td>\n",
       "      <td>24.0%</td>\n",
       "      <td>2021-04-06</td>\n",
       "      <td>Cryo</td>\n",
       "      <td>Polearm</td>\n",
       "      <td>Female</td>\n",
       "      <td>Mondstadt</td>\n",
       "      <td>4.0</td>\n",
       "      <td>0000-01-24</td>\n",
       "    </tr>\n",
       "    <tr>\n",
       "      <th>30</th>\n",
       "      <td>Yanfei</td>\n",
       "      <td>9352</td>\n",
       "      <td>240</td>\n",
       "      <td>587</td>\n",
       "      <td>Pyro DMG Bonus</td>\n",
       "      <td>24.0%</td>\n",
       "      <td>2021-04-28</td>\n",
       "      <td>Pyro</td>\n",
       "      <td>Catalyst</td>\n",
       "      <td>Female</td>\n",
       "      <td>Liyue</td>\n",
       "      <td>4.0</td>\n",
       "      <td>0000-07-28</td>\n",
       "    </tr>\n",
       "    <tr>\n",
       "      <th>31</th>\n",
       "      <td>Eula</td>\n",
       "      <td>13226</td>\n",
       "      <td>342</td>\n",
       "      <td>751</td>\n",
       "      <td>CRIT DMG</td>\n",
       "      <td>38.4%</td>\n",
       "      <td>2021-05-18</td>\n",
       "      <td>Cryo</td>\n",
       "      <td>Claymore</td>\n",
       "      <td>Female</td>\n",
       "      <td>Mondstadt</td>\n",
       "      <td>5.0</td>\n",
       "      <td>0000-10-25</td>\n",
       "    </tr>\n",
       "    <tr>\n",
       "      <th>32</th>\n",
       "      <td>Kaedehara Kazuha</td>\n",
       "      <td>13348</td>\n",
       "      <td>297</td>\n",
       "      <td>807</td>\n",
       "      <td>Elemental Mastery</td>\n",
       "      <td>115.2</td>\n",
       "      <td>2021-06-29</td>\n",
       "      <td>Anemo</td>\n",
       "      <td>Sword</td>\n",
       "      <td>Male</td>\n",
       "      <td>Inazuma</td>\n",
       "      <td>5.0</td>\n",
       "      <td>0000-10-29</td>\n",
       "    </tr>\n",
       "    <tr>\n",
       "      <th>33</th>\n",
       "      <td>Kamisato Ayaka</td>\n",
       "      <td>12858</td>\n",
       "      <td>342</td>\n",
       "      <td>784</td>\n",
       "      <td>CRIT DMG</td>\n",
       "      <td>38.4%</td>\n",
       "      <td>2021-07-21</td>\n",
       "      <td>Cryo</td>\n",
       "      <td>Sword</td>\n",
       "      <td>Female</td>\n",
       "      <td>Inazuma</td>\n",
       "      <td>5.0</td>\n",
       "      <td>0000-09-28</td>\n",
       "    </tr>\n",
       "    <tr>\n",
       "      <th>34</th>\n",
       "      <td>Sayu</td>\n",
       "      <td>11854</td>\n",
       "      <td>244</td>\n",
       "      <td>745</td>\n",
       "      <td>Elemental Mastery</td>\n",
       "      <td>96</td>\n",
       "      <td>2021-08-10</td>\n",
       "      <td>Anemo</td>\n",
       "      <td>Claymore</td>\n",
       "      <td>Female</td>\n",
       "      <td>Inazuma</td>\n",
       "      <td>4.0</td>\n",
       "      <td>0000-10-19</td>\n",
       "    </tr>\n",
       "    <tr>\n",
       "      <th>35</th>\n",
       "      <td>Yoimiya</td>\n",
       "      <td>10164</td>\n",
       "      <td>323</td>\n",
       "      <td>615</td>\n",
       "      <td>CRIT Rate</td>\n",
       "      <td>19.2%</td>\n",
       "      <td>2021-08-10</td>\n",
       "      <td>Pyro</td>\n",
       "      <td>Bow</td>\n",
       "      <td>Female</td>\n",
       "      <td>Inazuma</td>\n",
       "      <td>5.0</td>\n",
       "      <td>0000-06-21</td>\n",
       "    </tr>\n",
       "  </tbody>\n",
       "</table>\n",
       "</div>"
      ],
      "text/plain": [
       "                Name     HP  ATK  DEF      Ascension Stat  \\\n",
       "0               Lisa   9570  232  573   Elemental Mastery   \n",
       "1              Razor  11962  234  751  Physical DMG Bonus   \n",
       "2               Qiqi  12368  287  922       Healing Bonus   \n",
       "3             Noelle  12071  191  799                 DEF   \n",
       "4          Ningguang   9787  212  573       Geo DMG Bonus   \n",
       "5               Mona  10409  287  653     Energy Recharge   \n",
       "6             Keqing  13103  323  799            CRIT DMG   \n",
       "7              Venti  10531  263  669     Energy Recharge   \n",
       "8              Kaeya  11636  223  792     Energy Recharge   \n",
       "9            Sucrose   9243  170  703     Anemo DMG Bonus   \n",
       "10         Xiangling  10875  225  669   Elemental Mastery   \n",
       "11           Xingqiu  10223  202  758                 ATK   \n",
       "12            Fischl   9189  244  594                 ATK   \n",
       "13             Diluc  12981  335  784           CRIT Rate   \n",
       "14          Chongyun  10984  223  648                 ATK   \n",
       "15           Bennett  12397  191  771     Energy Recharge   \n",
       "16            Beidou  13050  225  648   Electro DMG Bonus   \n",
       "17           Barbara   9787  159  669                  HP   \n",
       "18             Amber   9461  223  601                 ATK   \n",
       "19              Jean  14695  239  769       Healing Bonus   \n",
       "20              Klee  10287  311  615      Pyro DMG Bonus   \n",
       "21             Diona   9570  212  601      Cryo DMG Bonus   \n",
       "22         Tartaglia  13103  301  815     Hydro DMG Bonus   \n",
       "23            Xinyan  11201  249  799                 ATK   \n",
       "24           Zhongli  14695  251  738       Geo DMG Bonus   \n",
       "25            Albedo  13226  251  876       Geo DMG Bonus   \n",
       "26             Ganyu   9797  335  630            CRIT DMG   \n",
       "27              Xiao  12736  349  799           CRIT Rate   \n",
       "28            Hu Tao  15552  106  876            CRIT DMG   \n",
       "29           Rosaria  12289  240  710                 ATK   \n",
       "30            Yanfei   9352  240  587      Pyro DMG Bonus   \n",
       "31              Eula  13226  342  751            CRIT DMG   \n",
       "32  Kaedehara Kazuha  13348  297  807   Elemental Mastery   \n",
       "33    Kamisato Ayaka  12858  342  784            CRIT DMG   \n",
       "34              Sayu  11854  244  745   Elemental Mastery   \n",
       "35           Yoimiya  10164  323  615           CRIT Rate   \n",
       "\n",
       "   Ascension Stat Value Release Date  Element    Weapon     Sex     Nation  \\\n",
       "0                    96   2020-09-28  Electro  Catalyst  Female  Mondstadt   \n",
       "1                 30.0%   2020-09-28  Electro  Claymore    Male  Mondstadt   \n",
       "2                 22.2%   2020-09-28     Cryo     Sword  Female      Liyue   \n",
       "3                 30.0%   2020-09-28      Geo  Claymore  Female  Mondstadt   \n",
       "4                 24.0%   2020-09-28      Geo  Catalyst  Female      Liyue   \n",
       "5                 32.0%   2020-09-28    Hydro  Catalyst  Female  Mondstadt   \n",
       "6                 38.4%   2020-09-28  Electro     Sword  Female      Liyue   \n",
       "7                 32.0%   2020-09-28    Anemo       Bow    Male  Mondstadt   \n",
       "8                 26.7%   2020-09-28     Cryo     Sword    Male  Mondstadt   \n",
       "9                 24.0%   2020-09-28    Anemo  Catalyst  Female  Mondstadt   \n",
       "10                   96   2020-09-28     Pyro   Polearm  Female      Liyue   \n",
       "11                24.0%   2020-09-28    Hydro     Sword    Male      Liyue   \n",
       "12                24.0%   2020-09-28  Electro       Bow  Female  Mondstadt   \n",
       "13                19.2%   2020-09-28     Pyro  Claymore    Male  Mondstadt   \n",
       "14                24.0%   2020-09-28     Cryo  Claymore    Male      Liyue   \n",
       "15                26.7%   2020-09-28     Pyro     Sword    Male  Mondstadt   \n",
       "16                24.0%   2020-09-28  Electro  Claymore  Female      Liyue   \n",
       "17                24.0%   2020-09-28    Hydro  Catalyst  Female  Mondstadt   \n",
       "18                24.0%   2020-09-28     Pyro       Bow  Female  Mondstadt   \n",
       "19                22.2%   2020-09-28    Anemo     Sword  Female  Mondstadt   \n",
       "20                28.8%   2020-10-20     Pyro  Catalyst  Female  Mondstadt   \n",
       "21                24.0%   2020-11-11     Cryo       Bow  Female  Mondstadt   \n",
       "22                28.8%   2020-11-11    Hydro       Bow    Male  Snezhnaya   \n",
       "23                24.0%   2020-12-01     Pyro  Claymore  Female      Liyue   \n",
       "24                28.8%   2020-12-01      Geo   Polearm    Male      Liyue   \n",
       "25                28.8%   2020-12-23      Geo     Sword    Male  Mondstadt   \n",
       "26                38.4%   2021-01-12     Cryo       Bow  Female      Liyue   \n",
       "27                19.2%   2021-02-03    Anemo   Polearm    Male      Liyue   \n",
       "28                38.4%   2021-03-02     Pyro   Polearm  Female      Liyue   \n",
       "29                24.0%   2021-04-06     Cryo   Polearm  Female  Mondstadt   \n",
       "30                24.0%   2021-04-28     Pyro  Catalyst  Female      Liyue   \n",
       "31                38.4%   2021-05-18     Cryo  Claymore  Female  Mondstadt   \n",
       "32                115.2   2021-06-29    Anemo     Sword    Male    Inazuma   \n",
       "33                38.4%   2021-07-21     Cryo     Sword  Female    Inazuma   \n",
       "34                   96   2021-08-10    Anemo  Claymore  Female    Inazuma   \n",
       "35                19.2%   2021-08-10     Pyro       Bow  Female    Inazuma   \n",
       "\n",
       "    rarity    birthday  \n",
       "0      4.0  0000-06-09  \n",
       "1      4.0  0000-09-09  \n",
       "2      5.0  0000-03-03  \n",
       "3      4.0  0000-03-21  \n",
       "4      4.0  0000-08-26  \n",
       "5      5.0  0000-08-31  \n",
       "6      5.0  0000-11-20  \n",
       "7      5.0  0000-06-16  \n",
       "8      4.0  0000-11-30  \n",
       "9      4.0  0000-11-26  \n",
       "10     4.0  0000-11-02  \n",
       "11     4.0  0000-10-09  \n",
       "12     4.0  0000-05-27  \n",
       "13     5.0  0000-04-30  \n",
       "14     4.0  0000-09-07  \n",
       "15     4.0  0000-02-29  \n",
       "16     4.0  0000-02-14  \n",
       "17     4.0  0000-07-05  \n",
       "18     4.0  0000-08-10  \n",
       "19     5.0  0000-03-14  \n",
       "20     5.0  0000-07-27  \n",
       "21     4.0  0000-01-18  \n",
       "22     5.0  0000-07-20  \n",
       "23     4.0  0000-10-16  \n",
       "24     5.0  0000-12-31  \n",
       "25     5.0  0000-09-13  \n",
       "26     5.0  0000-12-02  \n",
       "27     5.0  0000-04-17  \n",
       "28     5.0  0000-07-15  \n",
       "29     4.0  0000-01-24  \n",
       "30     4.0  0000-07-28  \n",
       "31     5.0  0000-10-25  \n",
       "32     5.0  0000-10-29  \n",
       "33     5.0  0000-09-28  \n",
       "34     4.0  0000-10-19  \n",
       "35     5.0  0000-06-21  "
      ]
     },
     "execution_count": 1,
     "metadata": {},
     "output_type": "execute_result"
    }
   ],
   "source": [
    "import pandas as pd\n",
    "import numpy as np\n",
    "import matplotlib.pyplot as plt\n",
    "\n",
    "df = pd.read_csv('genshin.csv')\n",
    "df"
   ]
  },
  {
   "cell_type": "markdown",
   "id": "9a71c169-cf8d-4343-b651-166b627872d4",
   "metadata": {},
   "source": [
    "<strong>Visualization of distribution of gender, element, and weapon:</strong>"
   ]
  },
  {
   "cell_type": "code",
   "execution_count": 2,
   "id": "e0d5ee34-6469-4945-8187-8175e9229978",
   "metadata": {},
   "outputs": [
    {
     "data": {
      "text/plain": [
       "<AxesSubplot:title={'center':'Gender'}>"
      ]
     },
     "execution_count": 2,
     "metadata": {},
     "output_type": "execute_result"
    },
    {
     "data": {
      "image/png": "[encoded data removed]",
      "text/plain": [
       "<Figure size 432x288 with 1 Axes>"
      ]
     },
     "metadata": {
      "needs_background": "light"
     },
     "output_type": "display_data"
    }
   ],
   "source": [
    "plt.title('Gender')\n",
    "df['Sex'].value_counts().plot(kind='bar')"
   ]
  },
  {
   "cell_type": "markdown",
   "id": "0771e7b4-b99a-424a-823c-debc630cb1e2",
   "metadata": {},
   "source": [
    "<strong>Overall, there are more females than males.</strong>"
   ]
  },
  {
   "cell_type": "code",
   "execution_count": 3,
   "id": "3978e498-4905-415c-9905-6f66e01af6b3",
   "metadata": {},
   "outputs": [
    {
     "data": {
      "text/plain": [
       "<AxesSubplot:title={'center':'Element'}>"
      ]
     },
     "execution_count": 3,
     "metadata": {},
     "output_type": "execute_result"
    },
    {
     "data": {
      "image/png": "[encoded data removed]",
      "text/plain": [
       "<Figure size 432x288 with 1 Axes>"
      ]
     },
     "metadata": {
      "needs_background": "light"
     },
     "output_type": "display_data"
    }
   ],
   "source": [
    "plt.title('Element')\n",
    "df['Element'].value_counts().plot(kind='bar')"
   ]
  },
  {
   "cell_type": "markdown",
   "id": "7b6a813d-cd70-4c5f-bad1-48a4ce0d945e",
   "metadata": {},
   "source": [
    "<strong>Overall, there are more Pyro characters.</strong>"
   ]
  },
  {
   "cell_type": "code",
   "execution_count": 4,
   "id": "3d896c02-9668-4f06-8c9e-9d25d5c7b6e1",
   "metadata": {},
   "outputs": [
    {
     "data": {
      "text/plain": [
       "<AxesSubplot:title={'center':'Weapon'}>"
      ]
     },
     "execution_count": 4,
     "metadata": {},
     "output_type": "execute_result"
    },
    {
     "data": {
      "image/png": "[encoded data removed]",
      "text/plain": [
       "<Figure size 432x288 with 1 Axes>"
      ]
     },
     "metadata": {
      "needs_background": "light"
     },
     "output_type": "display_data"
    }
   ],
   "source": [
    "plt.title('Weapon')\n",
    "df['Weapon'].value_counts().plot(kind='bar')"
   ]
  },
  {
   "cell_type": "markdown",
   "id": "624cab42-2691-497d-94b8-3495a3000e9b",
   "metadata": {},
   "source": [
    "<strong>Overall, there are more sword users.</strong>"
   ]
  },
  {
   "cell_type": "markdown",
   "id": "4e1e407c-a99b-45ff-8073-afa5ce92cef3",
   "metadata": {},
   "source": [
    "<strong>Initial hypothesis before starting this project was that all categories of gender, element, and weapon would be uniform or close to uniform. Turns out, the hypothesis was incorrect, and that there seems to be some sort of preference when releasing a character.</strong>"
   ]
  },
  {
   "cell_type": "markdown",
   "id": "dfca553b-203b-4660-af12-685dc67d22e6",
   "metadata": {},
   "source": [
    "<strong>So now, let's see if theres any difference if we split the set by the nation the character originated from.</strong>"
   ]
  },
  {
   "cell_type": "markdown",
   "id": "0988bcbe-deeb-48e2-a217-dcde5fe2513f",
   "metadata": {},
   "source": [
    "<strong>Visualization of distribution of gender, element, and weapon based on the characters nation origin:</strong>"
   ]
  },
  {
   "cell_type": "markdown",
   "id": "f3df805e-af91-4aa7-9dc3-dc4888e194f4",
   "metadata": {},
   "source": [
    "<strong>Gender:</strong>"
   ]
  },
  {
   "cell_type": "code",
   "execution_count": 5,
   "id": "054de138-c7bd-4b4d-aa89-62ff8d6c8050",
   "metadata": {},
   "outputs": [
    {
     "data": {
      "text/plain": [
       "<AxesSubplot:title={'center':'Gender - Mondstadt'}>"
      ]
     },
     "execution_count": 5,
     "metadata": {},
     "output_type": "execute_result"
    },
    {
     "data": {
      "image/png": "[encoded data removed]",
      "text/plain": [
       "<Figure size 432x288 with 1 Axes>"
      ]
     },
     "metadata": {
      "needs_background": "light"
     },
     "output_type": "display_data"
    }
   ],
   "source": [
    "df_mondstadt = df.loc[df['Nation'] == 'Mondstadt']\n",
    "plt.title('Gender - Mondstadt')\n",
    "df_mondstadt['Sex'].value_counts().plot(kind='bar')"
   ]
  },
  {
   "cell_type": "code",
   "execution_count": 6,
   "id": "354ca76c-a27c-423b-b007-6b6c5e4a37d7",
   "metadata": {},
   "outputs": [
    {
     "data": {
      "text/plain": [
       "<AxesSubplot:title={'center':'Gender - Liyue'}>"
      ]
     },
     "execution_count": 6,
     "metadata": {},
     "output_type": "execute_result"
    },
    {
     "data": {
      "image/png": "[encoded data removed]",
      "text/plain": [
       "<Figure size 432x288 with 1 Axes>"
      ]
     },
     "metadata": {
      "needs_background": "light"
     },
     "output_type": "display_data"
    }
   ],
   "source": [
    "df_liyue = df.loc[df['Nation'] == 'Liyue']\n",
    "plt.title('Gender - Liyue')\n",
    "df_liyue['Sex'].value_counts().plot(kind='bar')"
   ]
  },
  {
   "cell_type": "markdown",
   "id": "c14e74cb-51dd-459d-859a-2fdd785d35a8",
   "metadata": {},
   "source": [
    "<strong>Overall, there are more females than males.</strong>"
   ]
  },
  {
   "cell_type": "code",
   "execution_count": 7,
   "id": "46c4dd50-cf70-40f0-8a49-e552f551410b",
   "metadata": {},
   "outputs": [
    {
     "data": {
      "text/plain": [
       "<AxesSubplot:title={'center':'Gender - Inazuma'}>"
      ]
     },
     "execution_count": 7,
     "metadata": {},
     "output_type": "execute_result"
    },
    {
     "data": {
      "image/png": "[encoded data removed]",
      "text/plain": [
       "<Figure size 432x288 with 1 Axes>"
      ]
     },
     "metadata": {
      "needs_background": "light"
     },
     "output_type": "display_data"
    }
   ],
   "source": [
    "df_inazuma = df.loc[df['Nation'] == 'Inazuma']\n",
    "plt.title('Gender - Inazuma')\n",
    "df_inazuma['Sex'].value_counts().plot(kind='bar')"
   ]
  },
  {
   "cell_type": "markdown",
   "id": "ccd944a4-f73c-420d-a0d9-3205b86dac4f",
   "metadata": {},
   "source": [
    "<strong>All distributions of gender per nation matches the overall distribution.</strong>"
   ]
  },
  {
   "cell_type": "code",
   "execution_count": 8,
   "id": "9ae2e9ab-b570-4119-ae09-2a5560472807",
   "metadata": {},
   "outputs": [
    {
     "data": {
      "text/plain": [
       "<AxesSubplot:title={'center':'Element - Mondstadt'}>"
      ]
     },
     "execution_count": 8,
     "metadata": {},
     "output_type": "execute_result"
    },
    {
     "data": {
      "image/png": "[encoded data removed]",
      "text/plain": [
       "<Figure size 432x288 with 1 Axes>"
      ]
     },
     "metadata": {
      "needs_background": "light"
     },
     "output_type": "display_data"
    }
   ],
   "source": [
    "df_mondstadt = df.loc[df['Nation'] == 'Mondstadt']\n",
    "plt.title('Element - Mondstadt')\n",
    "df_mondstadt['Element'].value_counts().plot(kind='bar')"
   ]
  },
  {
   "cell_type": "code",
   "execution_count": 9,
   "id": "4b510c48-6fcc-4fea-a490-ec071faee0a4",
   "metadata": {},
   "outputs": [
    {
     "data": {
      "text/plain": [
       "<AxesSubplot:title={'center':'Element - Liyue'}>"
      ]
     },
     "execution_count": 9,
     "metadata": {},
     "output_type": "execute_result"
    },
    {
     "data": {
      "image/png": "[encoded data removed]",
      "text/plain": [
       "<Figure size 432x288 with 1 Axes>"
      ]
     },
     "metadata": {
      "needs_background": "light"
     },
     "output_type": "display_data"
    }
   ],
   "source": [
    "df_liyue = df.loc[df['Nation'] == 'Liyue']\n",
    "plt.title('Element - Liyue')\n",
    "df_liyue['Element'].value_counts().plot(kind='bar')"
   ]
  },
  {
   "cell_type": "code",
   "execution_count": 10,
   "id": "b10acdad-dda6-492f-9bdb-4321dc7b071b",
   "metadata": {},
   "outputs": [
    {
     "data": {
      "text/plain": [
       "<AxesSubplot:title={'center':'Element - Inazuma'}>"
      ]
     },
     "execution_count": 10,
     "metadata": {},
     "output_type": "execute_result"
    },
    {
     "data": {
      "image/png": "[encoded data removed]",
      "text/plain": [
       "<Figure size 432x288 with 1 Axes>"
      ]
     },
     "metadata": {
      "needs_background": "light"
     },
     "output_type": "display_data"
    }
   ],
   "source": [
    "df_inazuma = df.loc[df['Nation'] == 'Inazuma']\n",
    "plt.title('Element - Inazuma')\n",
    "df_inazuma['Element'].value_counts().plot(kind='bar')"
   ]
  },
  {
   "cell_type": "markdown",
   "id": "0720bf2c-2ec1-4b49-b8e9-3aa5b29e0695",
   "metadata": {},
   "source": [
    "<strong>Seems like Pyro and Cryo are the top two favorite elements. Even though Inazuma is a new region that was released not too long ago, their nation already has a Cryo and Pyro user. This matches with the overall distribution of weapons.</strong>"
   ]
  },
  {
   "cell_type": "code",
   "execution_count": 11,
   "id": "d11a5985-1902-4658-8c72-b74976f6e666",
   "metadata": {},
   "outputs": [
    {
     "data": {
      "text/plain": [
       "<AxesSubplot:title={'center':'Weapon - Mondstadt'}>"
      ]
     },
     "execution_count": 11,
     "metadata": {},
     "output_type": "execute_result"
    },
    {
     "data": {
      "image/png": "[encoded data removed]",
      "text/plain": [
       "<Figure size 432x288 with 1 Axes>"
      ]
     },
     "metadata": {
      "needs_background": "light"
     },
     "output_type": "display_data"
    }
   ],
   "source": [
    "df_mondstadt = df.loc[df['Nation'] == 'Mondstadt']\n",
    "plt.title('Weapon - Mondstadt')\n",
    "df_mondstadt['Weapon'].value_counts().plot(kind='bar')"
   ]
  },
  {
   "cell_type": "code",
   "execution_count": 12,
   "id": "a2d24d52-a29f-437e-893d-5a1a6cf17cef",
   "metadata": {},
   "outputs": [
    {
     "data": {
      "text/plain": [
       "<AxesSubplot:title={'center':'Weapon - Liyue'}>"
      ]
     },
     "execution_count": 12,
     "metadata": {},
     "output_type": "execute_result"
    },
    {
     "data": {
      "image/png": "[encoded data removed]",
      "text/plain": [
       "<Figure size 432x288 with 1 Axes>"
      ]
     },
     "metadata": {
      "needs_background": "light"
     },
     "output_type": "display_data"
    }
   ],
   "source": [
    "df_liyue = df.loc[df['Nation'] == 'Liyue']\n",
    "plt.title('Weapon - Liyue')\n",
    "df_liyue['Weapon'].value_counts().plot(kind='bar')"
   ]
  },
  {
   "cell_type": "code",
   "execution_count": 13,
   "id": "66dc3c3f-1615-4c81-8a9c-52f5b9a78cce",
   "metadata": {},
   "outputs": [
    {
     "data": {
      "text/plain": [
       "<AxesSubplot:title={'center':'Weapon - Inazuma'}>"
      ]
     },
     "execution_count": 13,
     "metadata": {},
     "output_type": "execute_result"
    },
    {
     "data": {
      "image/png": "[encoded data removed]",
      "text/plain": [
       "<Figure size 432x288 with 1 Axes>"
      ]
     },
     "metadata": {
      "needs_background": "light"
     },
     "output_type": "display_data"
    }
   ],
   "source": [
    "df_inazuma = df.loc[df['Nation'] == 'Inazuma']\n",
    "plt.title('Weapon - Inazuma')\n",
    "df_inazuma['Weapon'].value_counts().plot(kind='bar')"
   ]
  },
  {
   "cell_type": "markdown",
   "id": "4273562b-8d33-437b-9872-57b4213989da",
   "metadata": {},
   "source": [
    "<strong>The distribution of weapons per nation does not match the overall distribution. It seems each nation might have a unique preference to weapons. For example, Inazuma is a nation that was inspired by Japan, and so a sword, or rather a katana, fits well with their nation. And Liyue is a nation inspired by China, which a polearm or spear is a common weapon for medieval chinese soldiers.</strong>"
   ]
  },
  {
   "cell_type": "markdown",
   "id": "52537c5f-ad1f-4002-9447-92b620599049",
   "metadata": {},
   "source": [
    "<strong>Because weapons are based on location, I want to see the distribution of weapons based on the popular preference, which is of Pyro/Cryo female characters.</strong>"
   ]
  },
  {
   "cell_type": "code",
   "execution_count": 14,
   "id": "e72c9b1d-58b1-4f03-be8b-9596a79e6e43",
   "metadata": {},
   "outputs": [
    {
     "data": {
      "text/html": [
       "<div>\n",
       "<style scoped>\n",
       "    .dataframe tbody tr th:only-of-type {\n",
       "        vertical-align: middle;\n",
       "    }\n",
       "\n",
       "    .dataframe tbody tr th {\n",
       "        vertical-align: top;\n",
       "    }\n",
       "\n",
       "    .dataframe thead th {\n",
       "        text-align: right;\n",
       "    }\n",
       "</style>\n",
       "<table border=\"1\" class=\"dataframe\">\n",
       "  <thead>\n",
       "    <tr style=\"text-align: right;\">\n",
       "      <th></th>\n",
       "      <th>Name</th>\n",
       "      <th>HP</th>\n",
       "      <th>ATK</th>\n",
       "      <th>DEF</th>\n",
       "      <th>Ascension Stat</th>\n",
       "      <th>Ascension Stat Value</th>\n",
       "      <th>Release Date</th>\n",
       "      <th>Element</th>\n",
       "      <th>Weapon</th>\n",
       "      <th>Sex</th>\n",
       "      <th>Nation</th>\n",
       "      <th>rarity</th>\n",
       "      <th>birthday</th>\n",
       "    </tr>\n",
       "  </thead>\n",
       "  <tbody>\n",
       "    <tr>\n",
       "      <th>2</th>\n",
       "      <td>Qiqi</td>\n",
       "      <td>12368</td>\n",
       "      <td>287</td>\n",
       "      <td>922</td>\n",
       "      <td>Healing Bonus</td>\n",
       "      <td>22.2%</td>\n",
       "      <td>2020-09-28</td>\n",
       "      <td>Cryo</td>\n",
       "      <td>Sword</td>\n",
       "      <td>Female</td>\n",
       "      <td>Liyue</td>\n",
       "      <td>5.0</td>\n",
       "      <td>0000-03-03</td>\n",
       "    </tr>\n",
       "    <tr>\n",
       "      <th>10</th>\n",
       "      <td>Xiangling</td>\n",
       "      <td>10875</td>\n",
       "      <td>225</td>\n",
       "      <td>669</td>\n",
       "      <td>Elemental Mastery</td>\n",
       "      <td>96</td>\n",
       "      <td>2020-09-28</td>\n",
       "      <td>Pyro</td>\n",
       "      <td>Polearm</td>\n",
       "      <td>Female</td>\n",
       "      <td>Liyue</td>\n",
       "      <td>4.0</td>\n",
       "      <td>0000-11-02</td>\n",
       "    </tr>\n",
       "    <tr>\n",
       "      <th>18</th>\n",
       "      <td>Amber</td>\n",
       "      <td>9461</td>\n",
       "      <td>223</td>\n",
       "      <td>601</td>\n",
       "      <td>ATK</td>\n",
       "      <td>24.0%</td>\n",
       "      <td>2020-09-28</td>\n",
       "      <td>Pyro</td>\n",
       "      <td>Bow</td>\n",
       "      <td>Female</td>\n",
       "      <td>Mondstadt</td>\n",
       "      <td>4.0</td>\n",
       "      <td>0000-08-10</td>\n",
       "    </tr>\n",
       "    <tr>\n",
       "      <th>20</th>\n",
       "      <td>Klee</td>\n",
       "      <td>10287</td>\n",
       "      <td>311</td>\n",
       "      <td>615</td>\n",
       "      <td>Pyro DMG Bonus</td>\n",
       "      <td>28.8%</td>\n",
       "      <td>2020-10-20</td>\n",
       "      <td>Pyro</td>\n",
       "      <td>Catalyst</td>\n",
       "      <td>Female</td>\n",
       "      <td>Mondstadt</td>\n",
       "      <td>5.0</td>\n",
       "      <td>0000-07-27</td>\n",
       "    </tr>\n",
       "    <tr>\n",
       "      <th>21</th>\n",
       "      <td>Diona</td>\n",
       "      <td>9570</td>\n",
       "      <td>212</td>\n",
       "      <td>601</td>\n",
       "      <td>Cryo DMG Bonus</td>\n",
       "      <td>24.0%</td>\n",
       "      <td>2020-11-11</td>\n",
       "      <td>Cryo</td>\n",
       "      <td>Bow</td>\n",
       "      <td>Female</td>\n",
       "      <td>Mondstadt</td>\n",
       "      <td>4.0</td>\n",
       "      <td>0000-01-18</td>\n",
       "    </tr>\n",
       "    <tr>\n",
       "      <th>23</th>\n",
       "      <td>Xinyan</td>\n",
       "      <td>11201</td>\n",
       "      <td>249</td>\n",
       "      <td>799</td>\n",
       "      <td>ATK</td>\n",
       "      <td>24.0%</td>\n",
       "      <td>2020-12-01</td>\n",
       "      <td>Pyro</td>\n",
       "      <td>Claymore</td>\n",
       "      <td>Female</td>\n",
       "      <td>Liyue</td>\n",
       "      <td>4.0</td>\n",
       "      <td>0000-10-16</td>\n",
       "    </tr>\n",
       "    <tr>\n",
       "      <th>26</th>\n",
       "      <td>Ganyu</td>\n",
       "      <td>9797</td>\n",
       "      <td>335</td>\n",
       "      <td>630</td>\n",
       "      <td>CRIT DMG</td>\n",
       "      <td>38.4%</td>\n",
       "      <td>2021-01-12</td>\n",
       "      <td>Cryo</td>\n",
       "      <td>Bow</td>\n",
       "      <td>Female</td>\n",
       "      <td>Liyue</td>\n",
       "      <td>5.0</td>\n",
       "      <td>0000-12-02</td>\n",
       "    </tr>\n",
       "    <tr>\n",
       "      <th>28</th>\n",
       "      <td>Hu Tao</td>\n",
       "      <td>15552</td>\n",
       "      <td>106</td>\n",
       "      <td>876</td>\n",
       "      <td>CRIT DMG</td>\n",
       "      <td>38.4%</td>\n",
       "      <td>2021-03-02</td>\n",
       "      <td>Pyro</td>\n",
       "      <td>Polearm</td>\n",
       "      <td>Female</td>\n",
       "      <td>Liyue</td>\n",
       "      <td>5.0</td>\n",
       "      <td>0000-07-15</td>\n",
       "    </tr>\n",
       "    <tr>\n",
       "      <th>29</th>\n",
       "      <td>Rosaria</td>\n",
       "      <td>12289</td>\n",
       "      <td>240</td>\n",
       "      <td>710</td>\n",
       "      <td>ATK</td>\n",
       "      <td>24.0%</td>\n",
       "      <td>2021-04-06</td>\n",
       "      <td>Cryo</td>\n",
       "      <td>Polearm</td>\n",
       "      <td>Female</td>\n",
       "      <td>Mondstadt</td>\n",
       "      <td>4.0</td>\n",
       "      <td>0000-01-24</td>\n",
       "    </tr>\n",
       "    <tr>\n",
       "      <th>30</th>\n",
       "      <td>Yanfei</td>\n",
       "      <td>9352</td>\n",
       "      <td>240</td>\n",
       "      <td>587</td>\n",
       "      <td>Pyro DMG Bonus</td>\n",
       "      <td>24.0%</td>\n",
       "      <td>2021-04-28</td>\n",
       "      <td>Pyro</td>\n",
       "      <td>Catalyst</td>\n",
       "      <td>Female</td>\n",
       "      <td>Liyue</td>\n",
       "      <td>4.0</td>\n",
       "      <td>0000-07-28</td>\n",
       "    </tr>\n",
       "    <tr>\n",
       "      <th>31</th>\n",
       "      <td>Eula</td>\n",
       "      <td>13226</td>\n",
       "      <td>342</td>\n",
       "      <td>751</td>\n",
       "      <td>CRIT DMG</td>\n",
       "      <td>38.4%</td>\n",
       "      <td>2021-05-18</td>\n",
       "      <td>Cryo</td>\n",
       "      <td>Claymore</td>\n",
       "      <td>Female</td>\n",
       "      <td>Mondstadt</td>\n",
       "      <td>5.0</td>\n",
       "      <td>0000-10-25</td>\n",
       "    </tr>\n",
       "    <tr>\n",
       "      <th>33</th>\n",
       "      <td>Kamisato Ayaka</td>\n",
       "      <td>12858</td>\n",
       "      <td>342</td>\n",
       "      <td>784</td>\n",
       "      <td>CRIT DMG</td>\n",
       "      <td>38.4%</td>\n",
       "      <td>2021-07-21</td>\n",
       "      <td>Cryo</td>\n",
       "      <td>Sword</td>\n",
       "      <td>Female</td>\n",
       "      <td>Inazuma</td>\n",
       "      <td>5.0</td>\n",
       "      <td>0000-09-28</td>\n",
       "    </tr>\n",
       "    <tr>\n",
       "      <th>35</th>\n",
       "      <td>Yoimiya</td>\n",
       "      <td>10164</td>\n",
       "      <td>323</td>\n",
       "      <td>615</td>\n",
       "      <td>CRIT Rate</td>\n",
       "      <td>19.2%</td>\n",
       "      <td>2021-08-10</td>\n",
       "      <td>Pyro</td>\n",
       "      <td>Bow</td>\n",
       "      <td>Female</td>\n",
       "      <td>Inazuma</td>\n",
       "      <td>5.0</td>\n",
       "      <td>0000-06-21</td>\n",
       "    </tr>\n",
       "  </tbody>\n",
       "</table>\n",
       "</div>"
      ],
      "text/plain": [
       "              Name     HP  ATK  DEF     Ascension Stat Ascension Stat Value  \\\n",
       "2             Qiqi  12368  287  922      Healing Bonus                22.2%   \n",
       "10       Xiangling  10875  225  669  Elemental Mastery                   96   \n",
       "18           Amber   9461  223  601                ATK                24.0%   \n",
       "20            Klee  10287  311  615     Pyro DMG Bonus                28.8%   \n",
       "21           Diona   9570  212  601     Cryo DMG Bonus                24.0%   \n",
       "23          Xinyan  11201  249  799                ATK                24.0%   \n",
       "26           Ganyu   9797  335  630           CRIT DMG                38.4%   \n",
       "28          Hu Tao  15552  106  876           CRIT DMG                38.4%   \n",
       "29         Rosaria  12289  240  710                ATK                24.0%   \n",
       "30          Yanfei   9352  240  587     Pyro DMG Bonus                24.0%   \n",
       "31            Eula  13226  342  751           CRIT DMG                38.4%   \n",
       "33  Kamisato Ayaka  12858  342  784           CRIT DMG                38.4%   \n",
       "35         Yoimiya  10164  323  615          CRIT Rate                19.2%   \n",
       "\n",
       "   Release Date Element    Weapon     Sex     Nation  rarity    birthday  \n",
       "2    2020-09-28    Cryo     Sword  Female      Liyue     5.0  0000-03-03  \n",
       "10   2020-09-28    Pyro   Polearm  Female      Liyue     4.0  0000-11-02  \n",
       "18   2020-09-28    Pyro       Bow  Female  Mondstadt     4.0  0000-08-10  \n",
       "20   2020-10-20    Pyro  Catalyst  Female  Mondstadt     5.0  0000-07-27  \n",
       "21   2020-11-11    Cryo       Bow  Female  Mondstadt     4.0  0000-01-18  \n",
       "23   2020-12-01    Pyro  Claymore  Female      Liyue     4.0  0000-10-16  \n",
       "26   2021-01-12    Cryo       Bow  Female      Liyue     5.0  0000-12-02  \n",
       "28   2021-03-02    Pyro   Polearm  Female      Liyue     5.0  0000-07-15  \n",
       "29   2021-04-06    Cryo   Polearm  Female  Mondstadt     4.0  0000-01-24  \n",
       "30   2021-04-28    Pyro  Catalyst  Female      Liyue     4.0  0000-07-28  \n",
       "31   2021-05-18    Cryo  Claymore  Female  Mondstadt     5.0  0000-10-25  \n",
       "33   2021-07-21    Cryo     Sword  Female    Inazuma     5.0  0000-09-28  \n",
       "35   2021-08-10    Pyro       Bow  Female    Inazuma     5.0  0000-06-21  "
      ]
     },
     "execution_count": 14,
     "metadata": {},
     "output_type": "execute_result"
    }
   ],
   "source": [
    "df_temp = df.loc[ (df['Sex'] == 'Female') & ( (df['Element'] == 'Cryo') | (df['Element'] == 'Pyro') )]\n",
    "df_temp"
   ]
  },
  {
   "cell_type": "code",
   "execution_count": 15,
   "id": "84c3da0d-5916-4c94-b0e7-a620d117c444",
   "metadata": {},
   "outputs": [
    {
     "data": {
      "text/plain": [
       "<AxesSubplot:title={'center':'Weapon - Pyro (Female)'}>"
      ]
     },
     "execution_count": 15,
     "metadata": {},
     "output_type": "execute_result"
    },
    {
     "data": {
      "image/png": "[encoded data removed]",
      "text/plain": [
       "<Figure size 432x288 with 1 Axes>"
      ]
     },
     "metadata": {
      "needs_background": "light"
     },
     "output_type": "display_data"
    }
   ],
   "source": [
    "df_pyro = df_temp.loc[df['Element'] == 'Pyro']\n",
    "plt.title('Weapon - Pyro (Female)')\n",
    "df_pyro['Weapon'].value_counts().plot(kind='bar')"
   ]
  },
  {
   "cell_type": "code",
   "execution_count": 16,
   "id": "a7af74e5-0db8-4331-8015-b5a4dea9d0fe",
   "metadata": {},
   "outputs": [
    {
     "data": {
      "text/plain": [
       "<AxesSubplot:title={'center':'Weapon - Cryo (Female)'}>"
      ]
     },
     "execution_count": 16,
     "metadata": {},
     "output_type": "execute_result"
    },
    {
     "data": {
      "image/png": "[encoded data removed]",
      "text/plain": [
       "<Figure size 432x288 with 1 Axes>"
      ]
     },
     "metadata": {
      "needs_background": "light"
     },
     "output_type": "display_data"
    }
   ],
   "source": [
    "df_cryo = df_temp.loc[df['Element'] == 'Cryo']\n",
    "plt.title('Weapon - Cryo (Female)')\n",
    "df_cryo['Weapon'].value_counts().plot(kind='bar')"
   ]
  },
  {
   "cell_type": "markdown",
   "id": "d80e5566-e43e-4528-bf4f-f940b14c81c3",
   "metadata": {},
   "source": [
    "<strong>Based on these datas, it seems Pyro female characters have the preference of Polearm, bow, and catalyst. Whereas Cryo female character have a preference for Sword and bow.</strong>"
   ]
  },
  {
   "cell_type": "markdown",
   "id": "9fd12166-6bb3-4850-921d-8b798ad1f8dd",
   "metadata": {},
   "source": [
    "<strong>After all the previous visualizations, Mihoyo, the developers of Genshin Impact, does have a strong preference, and that would be Pyro/Cryo female users, with the bow being the common weapon of choice.</strong>"
   ]
  }
 ],
 "metadata": {
  "kernelspec": {
   "display_name": "Python 3",
   "language": "python",
   "name": "python3"
  },
  "language_info": {
   "codemirror_mode": {
    "name": "ipython",
    "version": 3
   },
   "file_extension": ".py",
   "mimetype": "text/x-python",
   "name": "python",
   "nbconvert_exporter": "python",
   "pygments_lexer": "ipython3",
   "version": "3.8.10"
  }
 },
 "nbformat": 4,
 "nbformat_minor": 5
}
